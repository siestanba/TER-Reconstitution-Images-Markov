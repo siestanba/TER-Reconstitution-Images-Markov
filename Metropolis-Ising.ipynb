{
 "cells": [
  {
   "cell_type": "markdown",
   "metadata": {},
   "source": [
    "# On commence d'abord par définir les foncitons que l'on va utiliser"
   ]
  },
  {
   "cell_type": "code",
   "execution_count": 1,
   "metadata": {},
   "outputs": [],
   "source": [
    "import numpy as np # import du package 'numpy' avec alias 'np'\n",
    "import PIL.Image as pim # import du module 'Image' du package 'Pillow' avec alias 'pim'\n",
    "import matplotlib.pyplot as plt\n",
    "\n",
    "def view(image, mode=None, clamp=None, file=None, scale=1):\n",
    "    \"\"\"Deffinition de la fonction qui permet d'afficher une image\"\"\"\n",
    "    from IPython.display import display\n",
    "\n",
    "    assert isinstance(image, (np.ndarray, pim.Image)), 'wrong data for image'\n",
    "    assert isinstance(clamp, (type(None), tuple)), 'wrong range for clamping'\n",
    "    if isinstance(image, pim.Image): \n",
    "        image = np.array(image.convert('RGB') if image.mode == 'P' else image)\n",
    "    elif image.ndim == 3 and image.shape[2] == 1: \n",
    "        image = image[:, :, 0]  # convert to 'L' mode\n",
    "    if not clamp: \n",
    "        hi = image.max()\n",
    "        clamp = (0, hi if hi else 1)\n",
    "    lo, hi = clamp\n",
    "    image = (np.clip(image, lo, hi) - lo) / (hi - lo) * 255\n",
    "    image = pim.fromarray(image.astype('u1'))\n",
    "    if mode: \n",
    "        image = image.convert(mode)  # optional: convert image to provided 'mode'\n",
    "    if scale != 1:\n",
    "        width, height = image.size\n",
    "        new_size = (int(width * scale), int(height * scale))\n",
    "        image = image.resize(new_size, pim.Resampling.NEAREST)  # Resize with scaling\n",
    "    if file: \n",
    "        image.save(file)  # optional: save image to provided 'file'\n",
    "    display(image)"
   ]
  },
  {
   "cell_type": "code",
   "execution_count": null,
   "metadata": {},
   "outputs": [],
   "source": [
    "def formatter_image_NB(image):\n",
    "    \"\"\"\n",
    "    permet de donner une image quelconque en entrée et qui est utilisable par la suite dans le programme\n",
    "    l'image doit être carrée\n",
    "    on remet l'image sur [-1, 1 -1 en blanc et 1 en noir\n",
    "    \"\"\"\n",
    "    img = pim.open('../images/immonde3.jpg') # lecture de l'image\n",
    "    W, H = img.size\n",
    "    N = W\n",
    "    image = np.array(img)[:,:,0] # on récupère uniquement la composante Rouge (arbitraire)\n",
    "    image = image.astype(np.int16) # convertir en int16 pour que le programme accepte les nobre négatifs\n",
    "\n",
    "    for i in range(N):\n",
    "        for j in range(N):\n",
    "            if image[i, j] > 200: \n",
    "                image[i, j] = 1\n",
    "            else: \n",
    "                image[i, j] = -1\n",
    "\n",
    "    return N, image\n"
   ]
  },
  {
   "cell_type": "code",
   "execution_count": 4,
   "metadata": {},
   "outputs": [],
   "source": [
    "def generer_bruit(N, res, p):\n",
    "    \"\"\"\n",
    "    Permet de générer du bruit\n",
    "    Prendre des carrés de resxres pour bruiter l'image\n",
    "    \"\"\"\n",
    "    bruit = np.ones((N, N))\n",
    "    for i in range(0, N, res):\n",
    "        for j in range(0, N, res):\n",
    "            if np.random.rand() < p: \n",
    "                bruit[i:i+res, j:j+res] = -1 #la valeur du pixel change de manière aléatoire\n",
    "    return bruit"
   ]
  },
  {
   "cell_type": "code",
   "execution_count": 6,
   "metadata": {},
   "outputs": [],
   "source": [
    "def plot_final(image_initiale, image_bruitee, image_finale):\n",
    "    \"\"\"\n",
    "    Permet d'afficher le plot final\n",
    "    \"\"\"\n",
    "    fig, axs = plt.subplots(1, 3, figsize=(15, 5))\n",
    "    axs[0].imshow(image_initiale, cmap='gray')\n",
    "    axs[0].set_title('sigma0 (image de base)')\n",
    "    axs[1].imshow(image_bruitee, cmap='gray')\n",
    "    axs[1].set_title('sigma (image bruitée)')\n",
    "    axs[2].imshow(image_finale, cmap='gray')\n",
    "    axs[2].set_title('S (image finale)')\n",
    "\n",
    "    plt.show()"
   ]
  },
  {
   "cell_type": "markdown",
   "metadata": {},
   "source": [
    "# Modèle d'Ising avec recuit simulé, et échantillonnage de Gibbs"
   ]
  },
  {
   "cell_type": "code",
   "execution_count": 16,
   "metadata": {},
   "outputs": [
    {
     "name": "stderr",
     "output_type": "stream",
     "text": [
      "/var/folders/st/mx912zyj291fqllt6m0_srgw0000gn/T/ipykernel_35631/737213705.py:31: RuntimeWarning: overflow encountered in exp\n",
      "  r = np.exp(-2 * Saux[k, l] * (2 * alpha * sigmaaux[k, l] + beta * s) / T) # probabilité de changer de signe (application de la formule de Metropolis)\n"
     ]
    },
    {
     "data": {
      "image/png": "[encoded data removed]",
      "text/plain": [
       "<Figure size 1500x500 with 3 Axes>"
      ]
     },
     "metadata": {},
     "output_type": "display_data"
    }
   ],
   "source": [
    "n = 10**6 # nombre d'itérations\n",
    "alpha = 1/3\n",
    "beta = 2/3\n",
    "p = 0.2 # probabilité de bruit\n",
    "\n",
    "# importation de l'image\n",
    "N, sigma0 = formatter_image_NB('../images/immonde3.jpg')\n",
    "#print(sigma0[30]) #vérification des pixels\n",
    "#view(sigma0) #verification de l'image importée\n",
    "\n",
    "# on génère notre bruit\n",
    "bruit = generer_bruit(N, 1, p)\n",
    "sigma = sigma0 * bruit # application du bruit\n",
    "\n",
    "Saux = np.zeros((N+2, N+2)) # on rajoute des bords pour éviter les problèmes de voisins\n",
    "Saux[1:N+1, 1:N+1] = sigma # on remplit la matrice auxiliaire avec sigma\n",
    "sigmaaux = Saux.copy()\n",
    "\n",
    "for q in range(1, n+1):\n",
    "    #T = 1/np.log(1+q) # température (elle diminue pour atteindre la configuration stable)\n",
    "    T = 1/q\n",
    "\n",
    "    # coordonnées aléatoires tirées pour le site s\n",
    "    k = np.random.randint(1, N+1)\n",
    "    l = np.random.randint(1, N+1)\n",
    "\n",
    "    s = Saux[k-1, l] + Saux[k+1, l] + Saux[k, l-1] + Saux[k, l+1] # somme des pixels voisins\n",
    "    #s = Saux[k-1, l] + Saux[k+1, l] + Saux[k+1, l+1] + Saux[k+1, l-1] + Saux[k, l-1] + Saux[k, l+1] + Saux[k-1, l+1] + Saux[k-1, l-1] \n",
    "    #s = Saux[k-1, l] + Saux[k+1, l] + Saux[k+1, l+1] + Saux[k+1, l-1] + Saux[k, l-1] + Saux[k, l+1] + Saux[k-1, l+1] + Saux[k-1, l-1] + Saux[k, l-2] + Saux[k, l+2] + Saux[k-1, l-1] + Saux[k-2, l] + Saux[k+2, l]  \n",
    "\n",
    "    r = np.exp(-2 * Saux[k, l] * (2 * alpha * sigmaaux[k, l] + beta * s) / T) # probabilité de changer de signe (application de la formule de Metropolis)\n",
    "    \n",
    "    if np.random.rand() < r: # on change de signe si la probabilité est inférieure à r\n",
    "        Saux[k, l] = -Saux[k, l]\n",
    "\n",
    "S = Saux[1:N+1, 1:N+1] # résultat final (on enlève les bords avant de l'afficher)\n",
    "plot_final(sigma0, sigma, S)"
   ]
  },
  {
   "cell_type": "markdown",
   "metadata": {},
   "source": [
    "# Visualistaion des pixels qui n'ont pas changé"
   ]
  },
  {
   "cell_type": "code",
   "execution_count": 17,
   "metadata": {},
   "outputs": [
    {
     "data": {
      "image/jpeg": "[encoded data removed]",
      "image/png": "[encoded data removed]",
      "text/plain": [
       "<PIL.Image.Image image mode=L size=250x250>"
      ]
     },
     "metadata": {},
     "output_type": "display_data"
    },
    {
     "data": {
      "image/jpeg": "[encoded data removed]",
      "image/png": "[encoded data removed]",
      "text/plain": [
       "<PIL.Image.Image image mode=L size=250x250>"
      ]
     },
     "metadata": {},
     "output_type": "display_data"
    }
   ],
   "source": [
    "# on fait la vraie image - image finale\n",
    "diff = sigma0 - S\n",
    "view(diff, scale=5)\n",
    "\n",
    "# pour obtenir les pixels qui ont changé\n",
    "abs = np.abs(diff)//2\n",
    "view(abs, scale=5)"
   ]
  }
 ],
 "metadata": {
  "kernelspec": {
   "display_name": "base",
   "language": "python",
   "name": "python3"
  },
  "language_info": {
   "codemirror_mode": {
    "name": "ipython",
    "version": 3
   },
   "file_extension": ".py",
   "mimetype": "text/x-python",
   "name": "python",
   "nbconvert_exporter": "python",
   "pygments_lexer": "ipython3",
   "version": "3.11.5"
  }
 },
 "nbformat": 4,
 "nbformat_minor": 2
}
